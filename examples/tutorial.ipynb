{
 "cells": [
  {
   "cell_type": "markdown",
   "metadata": {},
   "source": [
    "# Fake PTA tutorial"
   ]
  },
  {
   "attachments": {},
   "cell_type": "markdown",
   "metadata": {},
   "source": [
    "Fake PTA is a tool for basic Pulsar Timing Array (PTA) simulations designed to work with ENTERPRISE (https://github.com/nanograv/enterprise). It copies the main features of the Pulsar object in ENTERPRISE while allowing complete modification of its attributes, making it easier to play with pulsar properties. This tool allows to simulate pulsar post-fit timing residuals (timing model is not taken into account, for this, see libstempo at https://github.com/vallis/libstempo). In its current version, it simulates white noise (EFAC, EQUAD), red noise (RN), dispersion measure (DM) noise, scattering variation (Sv) chromatic noise and common red noises correlated between pulsars with various overlap reduction functions (Hellings-Down, monopole, dipole), as well as deterministic continuous gravitational wave (CGW) signals. Because the pulsar residuals are openly accessible, it is easy to inject any type of custom signal."
   ]
  },
  {
   "attachments": {},
   "cell_type": "markdown",
   "metadata": {},
   "source": [
    "# Getting started"
   ]
  },
  {
   "cell_type": "code",
   "execution_count": null,
   "metadata": {},
   "outputs": [],
   "source": [
    "from fakepta.fake_pta import Pulsar, copy_array, make_fake_array\n",
    "from fakepta.correlated_noises import add_correlated_red_noise_gp"
   ]
  }
 ],
 "metadata": {
  "kernelspec": {
   "display_name": "Python 3",
   "language": "python",
   "name": "python3"
  },
  "language_info": {
   "codemirror_mode": {
    "name": "ipython",
    "version": 3
   },
   "file_extension": ".py",
   "mimetype": "text/x-python",
   "name": "python",
   "nbconvert_exporter": "python",
   "pygments_lexer": "ipython3",
   "version": "3.6.9"
  },
  "orig_nbformat": 4
 },
 "nbformat": 4,
 "nbformat_minor": 2
}
